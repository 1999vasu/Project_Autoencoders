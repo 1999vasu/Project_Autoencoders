{
 "cells": [
  {
   "cell_type": "code",
   "execution_count": 7,
   "metadata": {},
   "outputs": [],
   "source": [
    "import pandas as pd\n",
    "import numpy as np\n",
    "import matplotlib.pyplot as plt\n",
    "\n",
    "from keras.models import Sequential,load_model\n",
    "from keras.layers import Dense\n",
    "from keras.utils import np_utils"
   ]
  },
  {
   "cell_type": "code",
   "execution_count": 3,
   "metadata": {},
   "outputs": [
    {
     "name": "stdout",
     "output_type": "stream",
     "text": [
      "(42000, 28, 28, 1) (42000,)\n"
     ]
    }
   ],
   "source": [
    "data = pd.read_csv(\"MNIST.csv\")\n",
    "X = data.values\n",
    "Y = X[:,0]\n",
    "X = X[:,1:]/255.0\n",
    "X = X.reshape(-1,28,28,1)\n",
    "print(X.shape,Y.shape)"
   ]
  },
  {
   "cell_type": "code",
   "execution_count": 4,
   "metadata": {},
   "outputs": [
    {
     "name": "stdout",
     "output_type": "stream",
     "text": [
      "_________________________________________________________________\n",
      "Layer (type)                 Output Shape              Param #   \n",
      "=================================================================\n",
      "input_5 (InputLayer)         (None, 28, 28, 1)         0         \n",
      "_________________________________________________________________\n",
      "conv2d_32 (Conv2D)           (None, 26, 26, 64)        640       \n",
      "_________________________________________________________________\n",
      "conv2d_33 (Conv2D)           (None, 24, 24, 32)        18464     \n",
      "_________________________________________________________________\n",
      "average_pooling2d_9 (Average (None, 12, 12, 32)        0         \n",
      "_________________________________________________________________\n",
      "conv2d_34 (Conv2D)           (None, 12, 12, 32)        9248      \n",
      "_________________________________________________________________\n",
      "conv2d_35 (Conv2D)           (None, 10, 10, 16)        4624      \n",
      "_________________________________________________________________\n",
      "average_pooling2d_10 (Averag (None, 5, 5, 16)          0         \n",
      "_________________________________________________________________\n",
      "conv2d_36 (Conv2D)           (None, 3, 3, 16)          2320      \n",
      "_________________________________________________________________\n",
      "flatten_5 (Flatten)          (None, 144)               0         \n",
      "_________________________________________________________________\n",
      "dense_9 (Dense)              (None, 64)                9280      \n",
      "=================================================================\n",
      "Total params: 44,576\n",
      "Trainable params: 44,576\n",
      "Non-trainable params: 0\n",
      "_________________________________________________________________\n"
     ]
    },
    {
     "name": "stderr",
     "output_type": "stream",
     "text": [
      "/usr/local/lib/python3.6/dist-packages/keras/engine/saving.py:292: UserWarning: No training configuration found in save file: the model was *not* compiled. Compile it manually.\n",
      "  warnings.warn('No training configuration found in save file: '\n"
     ]
    }
   ],
   "source": [
    "encoder = load_model('./encoder.h5')\n",
    "encoder.summary()"
   ]
  },
  {
   "cell_type": "code",
   "execution_count": 5,
   "metadata": {},
   "outputs": [],
   "source": [
    "x_train = encoder.predict(X)"
   ]
  },
  {
   "cell_type": "code",
   "execution_count": 8,
   "metadata": {},
   "outputs": [],
   "source": [
    "y_train = np_utils.to_categorical(Y)"
   ]
  },
  {
   "cell_type": "code",
   "execution_count": 9,
   "metadata": {},
   "outputs": [
    {
     "name": "stdout",
     "output_type": "stream",
     "text": [
      "(42000, 64) (42000, 10)\n"
     ]
    }
   ],
   "source": [
    "print(x_train.shape,y_train.shape)"
   ]
  },
  {
   "cell_type": "code",
   "execution_count": 11,
   "metadata": {},
   "outputs": [
    {
     "name": "stdout",
     "output_type": "stream",
     "text": [
      "_________________________________________________________________\n",
      "Layer (type)                 Output Shape              Param #   \n",
      "=================================================================\n",
      "dense_1 (Dense)              (None, 16)                1040      \n",
      "_________________________________________________________________\n",
      "dense_2 (Dense)              (None, 10)                170       \n",
      "=================================================================\n",
      "Total params: 1,210\n",
      "Trainable params: 1,210\n",
      "Non-trainable params: 0\n",
      "_________________________________________________________________\n"
     ]
    }
   ],
   "source": [
    "model = Sequential()\n",
    "\n",
    "model.add(Dense(16,activation='relu',input_shape=(64,)))\n",
    "model.add(Dense(10,activation='softmax'))\n",
    "model.summary()"
   ]
  },
  {
   "cell_type": "code",
   "execution_count": 12,
   "metadata": {},
   "outputs": [],
   "source": [
    "model.compile(loss='categorical_crossentropy',optimizer='adam',metrics=['accuracy'])"
   ]
  },
  {
   "cell_type": "code",
   "execution_count": 14,
   "metadata": {},
   "outputs": [
    {
     "name": "stdout",
     "output_type": "stream",
     "text": [
      "Train on 33600 samples, validate on 8400 samples\n",
      "Epoch 1/100\n",
      "33600/33600 [==============================] - 0s 6us/step - loss: 0.3776 - acc: 0.8893 - val_loss: 0.3620 - val_acc: 0.8952\n",
      "Epoch 2/100\n",
      "33600/33600 [==============================] - 0s 5us/step - loss: 0.3722 - acc: 0.8914 - val_loss: 0.3562 - val_acc: 0.8971\n",
      "Epoch 3/100\n",
      "33600/33600 [==============================] - 0s 6us/step - loss: 0.3668 - acc: 0.8923 - val_loss: 0.3521 - val_acc: 0.8977\n",
      "Epoch 4/100\n",
      "33600/33600 [==============================] - 0s 6us/step - loss: 0.3628 - acc: 0.8925 - val_loss: 0.3480 - val_acc: 0.8979\n",
      "Epoch 5/100\n",
      "33600/33600 [==============================] - 0s 6us/step - loss: 0.3582 - acc: 0.8947 - val_loss: 0.3427 - val_acc: 0.9006\n",
      "Epoch 6/100\n",
      "33600/33600 [==============================] - 0s 7us/step - loss: 0.3538 - acc: 0.8954 - val_loss: 0.3386 - val_acc: 0.9005\n",
      "Epoch 7/100\n",
      "33600/33600 [==============================] - 0s 5us/step - loss: 0.3507 - acc: 0.8962 - val_loss: 0.3359 - val_acc: 0.9017\n",
      "Epoch 8/100\n",
      "33600/33600 [==============================] - 0s 7us/step - loss: 0.3469 - acc: 0.8968 - val_loss: 0.3331 - val_acc: 0.9023\n",
      "Epoch 9/100\n",
      "33600/33600 [==============================] - 0s 7us/step - loss: 0.3439 - acc: 0.8982 - val_loss: 0.3310 - val_acc: 0.9031\n",
      "Epoch 10/100\n",
      "33600/33600 [==============================] - 0s 6us/step - loss: 0.3411 - acc: 0.8985 - val_loss: 0.3264 - val_acc: 0.9040\n",
      "Epoch 11/100\n",
      "33600/33600 [==============================] - 0s 6us/step - loss: 0.3386 - acc: 0.8992 - val_loss: 0.3240 - val_acc: 0.9037\n",
      "Epoch 12/100\n",
      "33600/33600 [==============================] - 0s 6us/step - loss: 0.3356 - acc: 0.9001 - val_loss: 0.3219 - val_acc: 0.9050\n",
      "Epoch 13/100\n",
      "33600/33600 [==============================] - 0s 6us/step - loss: 0.3336 - acc: 0.9000 - val_loss: 0.3200 - val_acc: 0.9055\n",
      "Epoch 14/100\n",
      "33600/33600 [==============================] - 0s 7us/step - loss: 0.3310 - acc: 0.9013 - val_loss: 0.3177 - val_acc: 0.9068\n",
      "Epoch 15/100\n",
      "33600/33600 [==============================] - 0s 8us/step - loss: 0.3287 - acc: 0.9020 - val_loss: 0.3174 - val_acc: 0.9054\n",
      "Epoch 16/100\n",
      "33600/33600 [==============================] - 0s 7us/step - loss: 0.3276 - acc: 0.9017 - val_loss: 0.3137 - val_acc: 0.9063\n",
      "Epoch 17/100\n",
      "33600/33600 [==============================] - 0s 6us/step - loss: 0.3253 - acc: 0.9024 - val_loss: 0.3130 - val_acc: 0.9061\n",
      "Epoch 18/100\n",
      "33600/33600 [==============================] - 0s 8us/step - loss: 0.3237 - acc: 0.9028 - val_loss: 0.3108 - val_acc: 0.9080\n",
      "Epoch 19/100\n",
      "33600/33600 [==============================] - 0s 7us/step - loss: 0.3221 - acc: 0.9038 - val_loss: 0.3092 - val_acc: 0.9073\n",
      "Epoch 20/100\n",
      "33600/33600 [==============================] - 0s 6us/step - loss: 0.3199 - acc: 0.9044 - val_loss: 0.3071 - val_acc: 0.9085\n",
      "Epoch 21/100\n",
      "33600/33600 [==============================] - 0s 8us/step - loss: 0.3183 - acc: 0.9049 - val_loss: 0.3055 - val_acc: 0.9088\n",
      "Epoch 22/100\n",
      "33600/33600 [==============================] - 0s 8us/step - loss: 0.3169 - acc: 0.9055 - val_loss: 0.3044 - val_acc: 0.9089\n",
      "Epoch 23/100\n",
      "33600/33600 [==============================] - 0s 6us/step - loss: 0.3152 - acc: 0.9052 - val_loss: 0.3041 - val_acc: 0.9086\n",
      "Epoch 24/100\n",
      "33600/33600 [==============================] - 0s 6us/step - loss: 0.3145 - acc: 0.9061 - val_loss: 0.3033 - val_acc: 0.9101\n",
      "Epoch 25/100\n",
      "33600/33600 [==============================] - 0s 7us/step - loss: 0.3125 - acc: 0.9062 - val_loss: 0.3002 - val_acc: 0.9112\n",
      "Epoch 26/100\n",
      "33600/33600 [==============================] - 0s 7us/step - loss: 0.3115 - acc: 0.9069 - val_loss: 0.3001 - val_acc: 0.9110\n",
      "Epoch 27/100\n",
      "33600/33600 [==============================] - 0s 6us/step - loss: 0.3101 - acc: 0.9073 - val_loss: 0.2983 - val_acc: 0.9101\n",
      "Epoch 28/100\n",
      "33600/33600 [==============================] - 0s 7us/step - loss: 0.3092 - acc: 0.9083 - val_loss: 0.3009 - val_acc: 0.9106\n",
      "Epoch 29/100\n",
      "33600/33600 [==============================] - 0s 6us/step - loss: 0.3081 - acc: 0.9078 - val_loss: 0.2981 - val_acc: 0.9090\n",
      "Epoch 30/100\n",
      "33600/33600 [==============================] - 0s 6us/step - loss: 0.3076 - acc: 0.9077 - val_loss: 0.2971 - val_acc: 0.9106\n",
      "Epoch 31/100\n",
      "33600/33600 [==============================] - 0s 6us/step - loss: 0.3059 - acc: 0.9084 - val_loss: 0.2943 - val_acc: 0.9125\n",
      "Epoch 32/100\n",
      "33600/33600 [==============================] - 0s 6us/step - loss: 0.3054 - acc: 0.9091 - val_loss: 0.2938 - val_acc: 0.9112\n",
      "Epoch 33/100\n",
      "33600/33600 [==============================] - 0s 7us/step - loss: 0.3040 - acc: 0.9094 - val_loss: 0.2929 - val_acc: 0.9126\n",
      "Epoch 34/100\n",
      "33600/33600 [==============================] - 0s 6us/step - loss: 0.3028 - acc: 0.9095 - val_loss: 0.2926 - val_acc: 0.9126\n",
      "Epoch 35/100\n",
      "33600/33600 [==============================] - 0s 7us/step - loss: 0.3020 - acc: 0.9095 - val_loss: 0.2931 - val_acc: 0.9123\n",
      "Epoch 36/100\n",
      "33600/33600 [==============================] - 0s 6us/step - loss: 0.3011 - acc: 0.9099 - val_loss: 0.2905 - val_acc: 0.9133\n",
      "Epoch 37/100\n",
      "33600/33600 [==============================] - 0s 6us/step - loss: 0.2998 - acc: 0.9101 - val_loss: 0.2887 - val_acc: 0.9131\n",
      "Epoch 38/100\n",
      "33600/33600 [==============================] - 0s 6us/step - loss: 0.2992 - acc: 0.9111 - val_loss: 0.2885 - val_acc: 0.9132\n",
      "Epoch 39/100\n",
      "33600/33600 [==============================] - 0s 6us/step - loss: 0.2991 - acc: 0.9109 - val_loss: 0.2875 - val_acc: 0.9130\n",
      "Epoch 40/100\n",
      "33600/33600 [==============================] - 0s 6us/step - loss: 0.2975 - acc: 0.9112 - val_loss: 0.2873 - val_acc: 0.9136\n",
      "Epoch 41/100\n",
      "33600/33600 [==============================] - 0s 6us/step - loss: 0.2966 - acc: 0.9118 - val_loss: 0.2880 - val_acc: 0.9138\n",
      "Epoch 42/100\n",
      "33600/33600 [==============================] - 0s 7us/step - loss: 0.2963 - acc: 0.9123 - val_loss: 0.2871 - val_acc: 0.9135\n",
      "Epoch 43/100\n",
      "33600/33600 [==============================] - 0s 7us/step - loss: 0.2953 - acc: 0.9115 - val_loss: 0.2862 - val_acc: 0.9129\n",
      "Epoch 44/100\n",
      "33600/33600 [==============================] - 0s 7us/step - loss: 0.2948 - acc: 0.9117 - val_loss: 0.2850 - val_acc: 0.9140\n",
      "Epoch 45/100\n",
      "33600/33600 [==============================] - 0s 7us/step - loss: 0.2937 - acc: 0.9124 - val_loss: 0.2846 - val_acc: 0.9140\n",
      "Epoch 46/100\n",
      "33600/33600 [==============================] - 0s 6us/step - loss: 0.2927 - acc: 0.9128 - val_loss: 0.2841 - val_acc: 0.9126\n",
      "Epoch 47/100\n",
      "33600/33600 [==============================] - 0s 7us/step - loss: 0.2918 - acc: 0.9123 - val_loss: 0.2830 - val_acc: 0.9135\n",
      "Epoch 48/100\n",
      "33600/33600 [==============================] - 0s 9us/step - loss: 0.2913 - acc: 0.9124 - val_loss: 0.2817 - val_acc: 0.9151\n",
      "Epoch 49/100\n",
      "33600/33600 [==============================] - 0s 9us/step - loss: 0.2905 - acc: 0.9127 - val_loss: 0.2819 - val_acc: 0.9149\n",
      "Epoch 50/100\n",
      "33600/33600 [==============================] - 0s 7us/step - loss: 0.2897 - acc: 0.9135 - val_loss: 0.2818 - val_acc: 0.9138\n",
      "Epoch 51/100\n",
      "33600/33600 [==============================] - 0s 6us/step - loss: 0.2887 - acc: 0.9136 - val_loss: 0.2816 - val_acc: 0.9143\n",
      "Epoch 52/100\n",
      "33600/33600 [==============================] - 0s 6us/step - loss: 0.2883 - acc: 0.9144 - val_loss: 0.2816 - val_acc: 0.9137\n",
      "Epoch 53/100\n",
      "33600/33600 [==============================] - 0s 6us/step - loss: 0.2873 - acc: 0.9145 - val_loss: 0.2790 - val_acc: 0.9156\n",
      "Epoch 54/100\n",
      "33600/33600 [==============================] - 0s 6us/step - loss: 0.2861 - acc: 0.9143 - val_loss: 0.2788 - val_acc: 0.9163\n",
      "Epoch 55/100\n",
      "33600/33600 [==============================] - 0s 6us/step - loss: 0.2861 - acc: 0.9144 - val_loss: 0.2798 - val_acc: 0.9138\n",
      "Epoch 56/100\n",
      "33600/33600 [==============================] - 0s 6us/step - loss: 0.2854 - acc: 0.9141 - val_loss: 0.2781 - val_acc: 0.9140\n",
      "Epoch 57/100\n",
      "33600/33600 [==============================] - 0s 6us/step - loss: 0.2846 - acc: 0.9150 - val_loss: 0.2771 - val_acc: 0.9164\n",
      "Epoch 58/100\n",
      "33600/33600 [==============================] - 0s 6us/step - loss: 0.2836 - acc: 0.9154 - val_loss: 0.2766 - val_acc: 0.9149\n",
      "Epoch 59/100\n",
      "33600/33600 [==============================] - 0s 7us/step - loss: 0.2833 - acc: 0.9151 - val_loss: 0.2783 - val_acc: 0.9148\n",
      "Epoch 60/100\n"
     ]
    },
    {
     "name": "stdout",
     "output_type": "stream",
     "text": [
      "33600/33600 [==============================] - 0s 6us/step - loss: 0.2826 - acc: 0.9157 - val_loss: 0.2750 - val_acc: 0.9151\n",
      "Epoch 61/100\n",
      "33600/33600 [==============================] - 0s 6us/step - loss: 0.2821 - acc: 0.9154 - val_loss: 0.2759 - val_acc: 0.9145\n",
      "Epoch 62/100\n",
      "33600/33600 [==============================] - 0s 6us/step - loss: 0.2813 - acc: 0.9162 - val_loss: 0.2757 - val_acc: 0.9170\n",
      "Epoch 63/100\n",
      "33600/33600 [==============================] - 0s 6us/step - loss: 0.2813 - acc: 0.9156 - val_loss: 0.2764 - val_acc: 0.9162\n",
      "Epoch 64/100\n",
      "33600/33600 [==============================] - 0s 6us/step - loss: 0.2801 - acc: 0.9157 - val_loss: 0.2745 - val_acc: 0.9164\n",
      "Epoch 65/100\n",
      "33600/33600 [==============================] - 0s 6us/step - loss: 0.2794 - acc: 0.9169 - val_loss: 0.2735 - val_acc: 0.9162\n",
      "Epoch 66/100\n",
      "33600/33600 [==============================] - 0s 6us/step - loss: 0.2789 - acc: 0.9156 - val_loss: 0.2728 - val_acc: 0.9181\n",
      "Epoch 67/100\n",
      "33600/33600 [==============================] - 0s 6us/step - loss: 0.2782 - acc: 0.9168 - val_loss: 0.2724 - val_acc: 0.9176\n",
      "Epoch 68/100\n",
      "33600/33600 [==============================] - 0s 7us/step - loss: 0.2772 - acc: 0.9164 - val_loss: 0.2727 - val_acc: 0.9160\n",
      "Epoch 69/100\n",
      "33600/33600 [==============================] - 0s 5us/step - loss: 0.2774 - acc: 0.9167 - val_loss: 0.2718 - val_acc: 0.9171\n",
      "Epoch 70/100\n",
      "33600/33600 [==============================] - 0s 7us/step - loss: 0.2769 - acc: 0.9172 - val_loss: 0.2697 - val_acc: 0.9187\n",
      "Epoch 71/100\n",
      "33600/33600 [==============================] - 0s 6us/step - loss: 0.2754 - acc: 0.9171 - val_loss: 0.2696 - val_acc: 0.9189\n",
      "Epoch 72/100\n",
      "33600/33600 [==============================] - 0s 6us/step - loss: 0.2759 - acc: 0.9171 - val_loss: 0.2699 - val_acc: 0.9187\n",
      "Epoch 73/100\n",
      "33600/33600 [==============================] - 0s 6us/step - loss: 0.2747 - acc: 0.9171 - val_loss: 0.2692 - val_acc: 0.9192\n",
      "Epoch 74/100\n",
      "33600/33600 [==============================] - 0s 6us/step - loss: 0.2743 - acc: 0.9174 - val_loss: 0.2686 - val_acc: 0.9192\n",
      "Epoch 75/100\n",
      "33600/33600 [==============================] - 0s 6us/step - loss: 0.2740 - acc: 0.9180 - val_loss: 0.2668 - val_acc: 0.9176\n",
      "Epoch 76/100\n",
      "33600/33600 [==============================] - 0s 6us/step - loss: 0.2730 - acc: 0.9177 - val_loss: 0.2679 - val_acc: 0.9196\n",
      "Epoch 77/100\n",
      "33600/33600 [==============================] - 0s 6us/step - loss: 0.2721 - acc: 0.9181 - val_loss: 0.2663 - val_acc: 0.9187\n",
      "Epoch 78/100\n",
      "33600/33600 [==============================] - 0s 6us/step - loss: 0.2717 - acc: 0.9181 - val_loss: 0.2660 - val_acc: 0.9185\n",
      "Epoch 79/100\n",
      "33600/33600 [==============================] - 0s 6us/step - loss: 0.2711 - acc: 0.9182 - val_loss: 0.2666 - val_acc: 0.9183\n",
      "Epoch 80/100\n",
      "33600/33600 [==============================] - 0s 6us/step - loss: 0.2711 - acc: 0.9185 - val_loss: 0.2668 - val_acc: 0.9194\n",
      "Epoch 81/100\n",
      "33600/33600 [==============================] - 0s 6us/step - loss: 0.2703 - acc: 0.9189 - val_loss: 0.2645 - val_acc: 0.9186\n",
      "Epoch 82/100\n",
      "33600/33600 [==============================] - 0s 6us/step - loss: 0.2694 - acc: 0.9185 - val_loss: 0.2634 - val_acc: 0.9183\n",
      "Epoch 83/100\n",
      "33600/33600 [==============================] - 0s 7us/step - loss: 0.2690 - acc: 0.9189 - val_loss: 0.2652 - val_acc: 0.9190\n",
      "Epoch 84/100\n",
      "33600/33600 [==============================] - 0s 8us/step - loss: 0.2682 - acc: 0.9193 - val_loss: 0.2628 - val_acc: 0.9196\n",
      "Epoch 85/100\n",
      "33600/33600 [==============================] - 0s 8us/step - loss: 0.2676 - acc: 0.9195 - val_loss: 0.2623 - val_acc: 0.9193\n",
      "Epoch 86/100\n",
      "33600/33600 [==============================] - 0s 7us/step - loss: 0.2676 - acc: 0.9191 - val_loss: 0.2632 - val_acc: 0.9200\n",
      "Epoch 87/100\n",
      "33600/33600 [==============================] - 0s 6us/step - loss: 0.2665 - acc: 0.9199 - val_loss: 0.2625 - val_acc: 0.9187\n",
      "Epoch 88/100\n",
      "33600/33600 [==============================] - 0s 6us/step - loss: 0.2662 - acc: 0.9197 - val_loss: 0.2609 - val_acc: 0.9199\n",
      "Epoch 89/100\n",
      "33600/33600 [==============================] - 0s 6us/step - loss: 0.2656 - acc: 0.9203 - val_loss: 0.2609 - val_acc: 0.9210\n",
      "Epoch 90/100\n",
      "33600/33600 [==============================] - 0s 6us/step - loss: 0.2651 - acc: 0.9201 - val_loss: 0.2607 - val_acc: 0.9194\n",
      "Epoch 91/100\n",
      "33600/33600 [==============================] - 0s 6us/step - loss: 0.2647 - acc: 0.9195 - val_loss: 0.2604 - val_acc: 0.9220\n",
      "Epoch 92/100\n",
      "33600/33600 [==============================] - 0s 6us/step - loss: 0.2642 - acc: 0.9204 - val_loss: 0.2602 - val_acc: 0.9200\n",
      "Epoch 93/100\n",
      "33600/33600 [==============================] - 0s 6us/step - loss: 0.2635 - acc: 0.9205 - val_loss: 0.2593 - val_acc: 0.9208\n",
      "Epoch 94/100\n",
      "33600/33600 [==============================] - 0s 5us/step - loss: 0.2636 - acc: 0.9204 - val_loss: 0.2582 - val_acc: 0.9214\n",
      "Epoch 95/100\n",
      "33600/33600 [==============================] - 0s 5us/step - loss: 0.2628 - acc: 0.9214 - val_loss: 0.2579 - val_acc: 0.9214\n",
      "Epoch 96/100\n",
      "33600/33600 [==============================] - 0s 6us/step - loss: 0.2619 - acc: 0.9207 - val_loss: 0.2569 - val_acc: 0.9212\n",
      "Epoch 97/100\n",
      "33600/33600 [==============================] - 0s 7us/step - loss: 0.2619 - acc: 0.9209 - val_loss: 0.2580 - val_acc: 0.9205\n",
      "Epoch 98/100\n",
      "33600/33600 [==============================] - 0s 7us/step - loss: 0.2611 - acc: 0.9211 - val_loss: 0.2570 - val_acc: 0.9220\n",
      "Epoch 99/100\n",
      "33600/33600 [==============================] - 0s 7us/step - loss: 0.2605 - acc: 0.9212 - val_loss: 0.2570 - val_acc: 0.9211\n",
      "Epoch 100/100\n",
      "33600/33600 [==============================] - 0s 6us/step - loss: 0.2601 - acc: 0.9217 - val_loss: 0.2546 - val_acc: 0.9219\n"
     ]
    }
   ],
   "source": [
    "hist = model.fit(x_train,y_train,epochs = 100,shuffle=True,batch_size=512,validation_split=0.20)"
   ]
  },
  {
   "cell_type": "code",
   "execution_count": 17,
   "metadata": {},
   "outputs": [
    {
     "data": {
      "image/png": "[encoded data removed]",
      "text/plain": [
       "<matplotlib.figure.Figure at 0x7f2fb4103898>"
      ]
     },
     "metadata": {
      "needs_background": "light"
     },
     "output_type": "display_data"
    }
   ],
   "source": [
    "plt.figure(0)\n",
    "plt.plot(hist.history['val_acc'],'g')\n",
    "# plt.plot(hist.history['val_loss'],'b')\n",
    "plt.plot(hist.history['acc'],'r')\n",
    "# plt.plot(hist.history['loss'],'y')\n",
    "plt.show()"
   ]
  },
  {
   "cell_type": "code",
   "execution_count": 18,
   "metadata": {},
   "outputs": [
    {
     "data": {
      "image/png": "[encoded data removed]",
      "text/plain": [
       "<matplotlib.figure.Figure at 0x7f2fb403d588>"
      ]
     },
     "metadata": {
      "needs_background": "light"
     },
     "output_type": "display_data"
    }
   ],
   "source": [
    "plt.figure(0)\n",
    "# plt.plot(hist.history['val_acc'],'g')\n",
    "plt.plot(hist.history['val_loss'],'b')\n",
    "# plt.plot(hist.history['acc'],'r')\n",
    "plt.plot(hist.history['loss'],'y')\n",
    "plt.show()"
   ]
  },
  {
   "cell_type": "code",
   "execution_count": null,
   "metadata": {},
   "outputs": [],
   "source": []
  }
 ],
 "metadata": {
  "kernelspec": {
   "display_name": "Python 3",
   "language": "python",
   "name": "python3"
  },
  "language_info": {
   "codemirror_mode": {
    "name": "ipython",
    "version": 3
   },
   "file_extension": ".py",
   "mimetype": "text/x-python",
   "name": "python",
   "nbconvert_exporter": "python",
   "pygments_lexer": "ipython3",
   "version": "3.6.7"
  }
 },
 "nbformat": 4,
 "nbformat_minor": 2
}
